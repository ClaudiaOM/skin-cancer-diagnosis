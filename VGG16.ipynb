{
 "cells": [
  {
   "cell_type": "code",
   "execution_count": 1,
   "metadata": {},
   "outputs": [
    {
     "name": "stderr",
     "output_type": "stream",
     "text": [
      "2022-11-24 11:57:37.301176: I tensorflow/core/util/util.cc:169] oneDNN custom operations are on. You may see slightly different numerical results due to floating-point round-off errors from different computation orders. To turn them off, set the environment variable `TF_ENABLE_ONEDNN_OPTS=0`.\n"
     ]
    }
   ],
   "source": [
    "from keras import layers\n",
    "from keras import models\n",
    "import tensorflow as tf\n",
    "from utils import constants\n",
    "from utils import utils\n",
    "from tensorflow.keras.applications.vgg16 import preprocess_input"
   ]
  },
  {
   "cell_type": "code",
   "execution_count": 2,
   "metadata": {},
   "outputs": [],
   "source": [
    "from keras.applications.vgg16 import VGG16\n",
    "from tensorflow.keras.preprocessing.image import ImageDataGenerator\n",
    "import tensorflow_datasets as tfds"
   ]
  },
  {
   "cell_type": "code",
   "execution_count": 3,
   "metadata": {},
   "outputs": [],
   "source": [
    "#CONFIG\n",
    "epochs = 20\n",
    "batch_size = 8\n",
    "learning_rate = 1e-5\n",
    "input_shape = (224,224)\n",
    "shape = (224,224,3)\n",
    "layers_to_unfreeze = 8"
   ]
  },
  {
   "cell_type": "code",
   "execution_count": 4,
   "metadata": {},
   "outputs": [
    {
     "name": "stdout",
     "output_type": "stream",
     "text": [
      "Found 5934 images belonging to 4 classes.\n",
      "Found 744 images belonging to 4 classes.\n"
     ]
    }
   ],
   "source": [
    "train_datagen = ImageDataGenerator(preprocessing_function = preprocess_input)\n",
    "validation_datagen = ImageDataGenerator(preprocessing_function = preprocess_input)\n",
    "input_shape = (224,224)\n",
    "\n",
    "train_generator = train_datagen.flow_from_directory(\n",
    "                    constants.TRAIN_DIRECTORY,\n",
    "                    target_size=input_shape,\n",
    "                    batch_size=8,\n",
    "                    class_mode='categorical')\n",
    "\n",
    "validation_generator = validation_datagen.flow_from_directory(\n",
    "                        constants.VALIDATION_DIRECTORY,\n",
    "                        target_size=input_shape,\n",
    "                        batch_size=8,\n",
    "                        class_mode='categorical')\n"
   ]
  },
  {
   "cell_type": "code",
   "execution_count": 5,
   "metadata": {},
   "outputs": [],
   "source": [
    "def build_model(num_classes):\n",
    "    \n",
    "    inputs = layers.Input(shape=shape)\n",
    "    img_augmentation = models.Sequential(name=\"img_augmentation\")\n",
    "    x = img_augmentation(inputs)\n",
    "    model = VGG16(include_top=False, input_tensor=x, weights=\"imagenet\")\n",
    "\n",
    "    # Freeze the pretrained weights\n",
    "    model.trainable = False\n",
    "    # Rebuild top\n",
    "    x = layers.GlobalAveragePooling2D(name=\"avg_pool\")(model.output)\n",
    "    x = layers.BatchNormalization()(x)\n",
    "\n",
    "    top_dropout_rate = 0.5\n",
    "    x = layers.Dropout(top_dropout_rate, name=\"top_dropout\")(x)\n",
    "    outputs = layers.Dense(num_classes, activation=\"softmax\", name=\"pred\")(x)\n",
    "    \n",
    "    # Compile\n",
    "    model = tf.keras.Model(inputs, outputs, name=\"VGG16\")\n",
    "    optimizer = tf.keras.optimizers.Adam(learning_rate=learning_rate)\n",
    "    model.compile(optimizer=optimizer, loss=\"categorical_crossentropy\", metrics=[\"accuracy\"])\n",
    "    return model\n",
    "\n",
    "    \n",
    "def unfreeze_model(model, learning_rate):\n",
    "    # We unfreeze the top 20 layers while leaving BatchNorm layers frozen\n",
    "    for layer in model.layers[-layers_to_unfreeze:]:\n",
    "        if not isinstance(layer, layers.BatchNormalization):\n",
    "            layer.trainable = True\n",
    "            print(layer.name)\n",
    "\n",
    "    optimizer = tf.keras.optimizers.Adam(learning_rate=learning_rate)\n",
    "    model.compile(optimizer=optimizer, loss=\"categorical_crossentropy\", metrics=[\"accuracy\"])\n"
   ]
  },
  {
   "cell_type": "code",
   "execution_count": 6,
   "metadata": {},
   "outputs": [
    {
     "name": "stderr",
     "output_type": "stream",
     "text": [
      "2022-11-24 11:57:47.525722: I tensorflow/stream_executor/cuda/cuda_gpu_executor.cc:961] could not open file to read NUMA node: /sys/bus/pci/devices/0000:01:00.0/numa_node\n",
      "Your kernel may have been built without NUMA support.\n",
      "2022-11-24 11:57:47.587494: I tensorflow/stream_executor/cuda/cuda_gpu_executor.cc:961] could not open file to read NUMA node: /sys/bus/pci/devices/0000:01:00.0/numa_node\n",
      "Your kernel may have been built without NUMA support.\n",
      "2022-11-24 11:57:47.588013: I tensorflow/stream_executor/cuda/cuda_gpu_executor.cc:961] could not open file to read NUMA node: /sys/bus/pci/devices/0000:01:00.0/numa_node\n",
      "Your kernel may have been built without NUMA support.\n",
      "2022-11-24 11:57:47.588956: I tensorflow/core/platform/cpu_feature_guard.cc:193] This TensorFlow binary is optimized with oneAPI Deep Neural Network Library (oneDNN) to use the following CPU instructions in performance-critical operations:  AVX2 AVX_VNNI FMA\n",
      "To enable them in other operations, rebuild TensorFlow with the appropriate compiler flags.\n",
      "2022-11-24 11:57:47.590787: I tensorflow/stream_executor/cuda/cuda_gpu_executor.cc:961] could not open file to read NUMA node: /sys/bus/pci/devices/0000:01:00.0/numa_node\n",
      "Your kernel may have been built without NUMA support.\n",
      "2022-11-24 11:57:47.591193: I tensorflow/stream_executor/cuda/cuda_gpu_executor.cc:961] could not open file to read NUMA node: /sys/bus/pci/devices/0000:01:00.0/numa_node\n",
      "Your kernel may have been built without NUMA support.\n",
      "2022-11-24 11:57:47.591636: I tensorflow/stream_executor/cuda/cuda_gpu_executor.cc:961] could not open file to read NUMA node: /sys/bus/pci/devices/0000:01:00.0/numa_node\n",
      "Your kernel may have been built without NUMA support.\n",
      "2022-11-24 11:57:48.634637: I tensorflow/stream_executor/cuda/cuda_gpu_executor.cc:961] could not open file to read NUMA node: /sys/bus/pci/devices/0000:01:00.0/numa_node\n",
      "Your kernel may have been built without NUMA support.\n",
      "2022-11-24 11:57:48.635303: I tensorflow/stream_executor/cuda/cuda_gpu_executor.cc:961] could not open file to read NUMA node: /sys/bus/pci/devices/0000:01:00.0/numa_node\n",
      "Your kernel may have been built without NUMA support.\n",
      "2022-11-24 11:57:48.635314: I tensorflow/core/common_runtime/gpu/gpu_device.cc:1616] Could not identify NUMA node of platform GPU id 0, defaulting to 0.  Your kernel may not have been built with NUMA support.\n",
      "2022-11-24 11:57:48.635802: I tensorflow/stream_executor/cuda/cuda_gpu_executor.cc:961] could not open file to read NUMA node: /sys/bus/pci/devices/0000:01:00.0/numa_node\n",
      "Your kernel may have been built without NUMA support.\n",
      "2022-11-24 11:57:48.636169: I tensorflow/core/common_runtime/gpu/gpu_device.cc:1532] Created device /job:localhost/replica:0/task:0/device:GPU:0 with 1617 MB memory:  -> device: 0, name: NVIDIA GeForce RTX 3050 Ti Laptop GPU, pci bus id: 0000:01:00.0, compute capability: 8.6\n"
     ]
    },
    {
     "name": "stdout",
     "output_type": "stream",
     "text": [
      "block5_conv1\n",
      "block5_conv2\n",
      "block5_conv3\n",
      "block5_pool\n",
      "avg_pool\n",
      "top_dropout\n",
      "pred\n",
      "Model: \"VGG16\"\n",
      "_________________________________________________________________\n",
      " Layer (type)                Output Shape              Param #   \n",
      "=================================================================\n",
      " input_1 (InputLayer)        [(None, 224, 224, 3)]     0         \n",
      "                                                                 \n",
      " img_augmentation (Sequentia  multiple                 0         \n",
      " l)                                                              \n",
      "                                                                 \n",
      " block1_conv1 (Conv2D)       (None, 224, 224, 64)      1792      \n",
      "                                                                 \n",
      " block1_conv2 (Conv2D)       (None, 224, 224, 64)      36928     \n",
      "                                                                 \n",
      " block1_pool (MaxPooling2D)  (None, 112, 112, 64)      0         \n",
      "                                                                 \n",
      " block2_conv1 (Conv2D)       (None, 112, 112, 128)     73856     \n",
      "                                                                 \n",
      " block2_conv2 (Conv2D)       (None, 112, 112, 128)     147584    \n",
      "                                                                 \n",
      " block2_pool (MaxPooling2D)  (None, 56, 56, 128)       0         \n",
      "                                                                 \n",
      " block3_conv1 (Conv2D)       (None, 56, 56, 256)       295168    \n",
      "                                                                 \n",
      " block3_conv2 (Conv2D)       (None, 56, 56, 256)       590080    \n",
      "                                                                 \n",
      " block3_conv3 (Conv2D)       (None, 56, 56, 256)       590080    \n",
      "                                                                 \n",
      " block3_pool (MaxPooling2D)  (None, 28, 28, 256)       0         \n",
      "                                                                 \n",
      " block4_conv1 (Conv2D)       (None, 28, 28, 512)       1180160   \n",
      "                                                                 \n",
      " block4_conv2 (Conv2D)       (None, 28, 28, 512)       2359808   \n",
      "                                                                 \n",
      " block4_conv3 (Conv2D)       (None, 28, 28, 512)       2359808   \n",
      "                                                                 \n",
      " block4_pool (MaxPooling2D)  (None, 14, 14, 512)       0         \n",
      "                                                                 \n",
      " block5_conv1 (Conv2D)       (None, 14, 14, 512)       2359808   \n",
      "                                                                 \n",
      " block5_conv2 (Conv2D)       (None, 14, 14, 512)       2359808   \n",
      "                                                                 \n",
      " block5_conv3 (Conv2D)       (None, 14, 14, 512)       2359808   \n",
      "                                                                 \n",
      " block5_pool (MaxPooling2D)  (None, 7, 7, 512)         0         \n",
      "                                                                 \n",
      " avg_pool (GlobalAveragePool  (None, 512)              0         \n",
      " ing2D)                                                          \n",
      "                                                                 \n",
      " batch_normalization (BatchN  (None, 512)              2048      \n",
      " ormalization)                                                   \n",
      "                                                                 \n",
      " top_dropout (Dropout)       (None, 512)               0         \n",
      "                                                                 \n",
      " pred (Dense)                (None, 4)                 2052      \n",
      "                                                                 \n",
      "=================================================================\n",
      "Total params: 14,718,788\n",
      "Trainable params: 7,082,500\n",
      "Non-trainable params: 7,636,288\n",
      "_________________________________________________________________\n"
     ]
    }
   ],
   "source": [
    "model = build_model(4)\n",
    "if layers_to_unfreeze > 0:\n",
    "    unfreeze_model(model,learning_rate)\n",
    "model.summary()"
   ]
  },
  {
   "cell_type": "code",
   "execution_count": 7,
   "metadata": {},
   "outputs": [
    {
     "name": "stdout",
     "output_type": "stream",
     "text": [
      "Epoch 1/20\n"
     ]
    },
    {
     "name": "stderr",
     "output_type": "stream",
     "text": [
      "2022-11-24 11:57:56.210941: I tensorflow/stream_executor/cuda/cuda_dnn.cc:384] Loaded cuDNN version 8500\n",
      "2022-11-24 11:57:57.133518: I tensorflow/core/platform/default/subprocess.cc:304] Start cannot spawn child process: No such file or directory\n",
      "2022-11-24 11:57:57.638193: W tensorflow/core/common_runtime/bfc_allocator.cc:290] Allocator (GPU_0_bfc) ran out of memory trying to allocate 2.28GiB with freed_by_count=0. The caller indicates that this is not a failure, but this may mean that there could be performance gains if more memory were available.\n",
      "2022-11-24 11:57:57.638257: W tensorflow/core/common_runtime/bfc_allocator.cc:290] Allocator (GPU_0_bfc) ran out of memory trying to allocate 2.28GiB with freed_by_count=0. The caller indicates that this is not a failure, but this may mean that there could be performance gains if more memory were available.\n",
      "2022-11-24 11:57:57.868479: W tensorflow/core/common_runtime/bfc_allocator.cc:290] Allocator (GPU_0_bfc) ran out of memory trying to allocate 2.17GiB with freed_by_count=0. The caller indicates that this is not a failure, but this may mean that there could be performance gains if more memory were available.\n",
      "2022-11-24 11:57:57.868536: W tensorflow/core/common_runtime/bfc_allocator.cc:290] Allocator (GPU_0_bfc) ran out of memory trying to allocate 2.17GiB with freed_by_count=0. The caller indicates that this is not a failure, but this may mean that there could be performance gains if more memory were available.\n",
      "2022-11-24 11:57:58.046767: W tensorflow/core/common_runtime/bfc_allocator.cc:290] Allocator (GPU_0_bfc) ran out of memory trying to allocate 2.14GiB with freed_by_count=0. The caller indicates that this is not a failure, but this may mean that there could be performance gains if more memory were available.\n",
      "2022-11-24 11:57:58.046824: W tensorflow/core/common_runtime/bfc_allocator.cc:290] Allocator (GPU_0_bfc) ran out of memory trying to allocate 2.14GiB with freed_by_count=0. The caller indicates that this is not a failure, but this may mean that there could be performance gains if more memory were available.\n",
      "2022-11-24 11:57:58.226276: W tensorflow/core/common_runtime/bfc_allocator.cc:290] Allocator (GPU_0_bfc) ran out of memory trying to allocate 2.18GiB with freed_by_count=0. The caller indicates that this is not a failure, but this may mean that there could be performance gains if more memory were available.\n",
      "2022-11-24 11:57:58.226323: W tensorflow/core/common_runtime/bfc_allocator.cc:290] Allocator (GPU_0_bfc) ran out of memory trying to allocate 2.18GiB with freed_by_count=0. The caller indicates that this is not a failure, but this may mean that there could be performance gains if more memory were available.\n",
      "2022-11-24 11:57:58.378374: I tensorflow/stream_executor/cuda/cuda_blas.cc:1786] TensorFloat-32 will be used for the matrix multiplication. This will only be logged once.\n"
     ]
    },
    {
     "name": "stdout",
     "output_type": "stream",
     "text": [
      "147/742 [====>.........................] - ETA: 1:37 - loss: 1.8742 - accuracy: 0.3486"
     ]
    },
    {
     "name": "stderr",
     "output_type": "stream",
     "text": [
      "2022-11-24 11:58:22.884361: W tensorflow/core/common_runtime/bfc_allocator.cc:290] Allocator (GPU_0_bfc) ran out of memory trying to allocate 2.22GiB with freed_by_count=0. The caller indicates that this is not a failure, but this may mean that there could be performance gains if more memory were available.\n",
      "2022-11-24 11:58:22.884435: W tensorflow/core/common_runtime/bfc_allocator.cc:290] Allocator (GPU_0_bfc) ran out of memory trying to allocate 2.22GiB with freed_by_count=0. The caller indicates that this is not a failure, but this may mean that there could be performance gains if more memory were available.\n"
     ]
    },
    {
     "name": "stdout",
     "output_type": "stream",
     "text": [
      "742/742 [==============================] - 146s 190ms/step - loss: 1.5005 - accuracy: 0.4513 - val_loss: 0.9937 - val_accuracy: 0.6532\n",
      "Epoch 2/20\n",
      "742/742 [==============================] - 143s 193ms/step - loss: 1.0987 - accuracy: 0.5982 - val_loss: 0.8538 - val_accuracy: 0.7083\n",
      "Epoch 3/20\n",
      "742/742 [==============================] - 143s 193ms/step - loss: 0.9339 - accuracy: 0.6493 - val_loss: 0.8185 - val_accuracy: 0.7151\n",
      "Epoch 4/20\n",
      "742/742 [==============================] - 142s 192ms/step - loss: 0.7956 - accuracy: 0.7058 - val_loss: 0.7155 - val_accuracy: 0.7567\n",
      "Epoch 5/20\n",
      "742/742 [==============================] - 150s 201ms/step - loss: 0.7241 - accuracy: 0.7268 - val_loss: 0.6879 - val_accuracy: 0.7473\n",
      "Epoch 6/20\n",
      "742/742 [==============================] - 145s 195ms/step - loss: 0.6775 - accuracy: 0.7514 - val_loss: 0.6707 - val_accuracy: 0.7769\n",
      "Epoch 7/20\n",
      "742/742 [==============================] - 152s 205ms/step - loss: 0.6198 - accuracy: 0.7705 - val_loss: 0.6364 - val_accuracy: 0.7836\n",
      "Epoch 8/20\n",
      "742/742 [==============================] - 150s 202ms/step - loss: 0.5475 - accuracy: 0.7917 - val_loss: 0.6498 - val_accuracy: 0.7957\n",
      "Epoch 9/20\n",
      "742/742 [==============================] - 143s 193ms/step - loss: 0.5161 - accuracy: 0.8102 - val_loss: 0.6018 - val_accuracy: 0.8145\n",
      "Epoch 10/20\n",
      "742/742 [==============================] - 150s 202ms/step - loss: 0.4853 - accuracy: 0.8197 - val_loss: 0.6181 - val_accuracy: 0.8078\n",
      "Epoch 11/20\n",
      "742/742 [==============================] - 146s 197ms/step - loss: 0.4265 - accuracy: 0.8413 - val_loss: 0.5589 - val_accuracy: 0.8266\n",
      "Epoch 12/20\n",
      "742/742 [==============================] - 144s 193ms/step - loss: 0.3980 - accuracy: 0.8559 - val_loss: 0.5655 - val_accuracy: 0.8118\n",
      "Epoch 13/20\n",
      "742/742 [==============================] - 155s 208ms/step - loss: 0.3761 - accuracy: 0.8674 - val_loss: 0.5906 - val_accuracy: 0.8159\n",
      "Epoch 14/20\n",
      "742/742 [==============================] - 149s 200ms/step - loss: 0.3773 - accuracy: 0.8574 - val_loss: 0.6115 - val_accuracy: 0.8159\n",
      "Epoch 15/20\n",
      "742/742 [==============================] - 148s 199ms/step - loss: 0.3307 - accuracy: 0.8790 - val_loss: 0.5716 - val_accuracy: 0.8333\n",
      "Epoch 16/20\n",
      "742/742 [==============================] - 148s 200ms/step - loss: 0.3149 - accuracy: 0.8868 - val_loss: 0.5528 - val_accuracy: 0.8441\n",
      "Epoch 17/20\n",
      "742/742 [==============================] - 145s 196ms/step - loss: 0.2983 - accuracy: 0.8905 - val_loss: 0.5148 - val_accuracy: 0.8293\n",
      "Epoch 18/20\n",
      "742/742 [==============================] - 154s 207ms/step - loss: 0.2754 - accuracy: 0.9018 - val_loss: 0.5574 - val_accuracy: 0.8414\n",
      "Epoch 19/20\n",
      "742/742 [==============================] - 145s 195ms/step - loss: 0.2575 - accuracy: 0.9071 - val_loss: 0.5752 - val_accuracy: 0.8320\n",
      "Epoch 20/20\n",
      "742/742 [==============================] - 150s 202ms/step - loss: 0.2414 - accuracy: 0.9194 - val_loss: 0.5397 - val_accuracy: 0.8468\n"
     ]
    }
   ],
   "source": [
    "hist = model.fit(train_generator, epochs=epochs, validation_data=validation_generator)"
   ]
  },
  {
   "cell_type": "code",
   "execution_count": 8,
   "metadata": {},
   "outputs": [
    {
     "data": {
      "image/png": "[encoded data removed]",
      "text/plain": [
       "<Figure size 640x480 with 1 Axes>"
      ]
     },
     "metadata": {},
     "output_type": "display_data"
    },
    {
     "data": {
      "image/png": "[encoded data removed]",
      "text/plain": [
       "<Figure size 640x480 with 1 Axes>"
      ]
     },
     "metadata": {},
     "output_type": "display_data"
    }
   ],
   "source": [
    "utils.plot_graphs(hist.history)"
   ]
  },
  {
   "cell_type": "code",
   "execution_count": 9,
   "metadata": {},
   "outputs": [
    {
     "name": "stdout",
     "output_type": "stream",
     "text": [
      "Max Accuracy:  0.9194472432136536  Mean Accuracy:  0.794076506793499  Max Val Accuracy:  0.8467742204666138  Mean Val Accuracy 0.792809134721756\n",
      "Min Loss:  0.24144989252090454  Mean loss:  0.55975771099329 Min Val Loss:  0.514777660369873  Mean Val Loss:  0.6442138373851776\n"
     ]
    }
   ],
   "source": [
    "utils.show_stats([hist])"
   ]
  },
  {
   "cell_type": "code",
   "execution_count": 10,
   "metadata": {},
   "outputs": [],
   "source": [
    "utils.save_dict_as_json(hist.history, \"VGG16\")"
   ]
  },
  {
   "cell_type": "code",
   "execution_count": 11,
   "metadata": {},
   "outputs": [],
   "source": [
    "model.save('VGG16.h5')"
   ]
  },
  {
   "cell_type": "code",
   "execution_count": null,
   "metadata": {},
   "outputs": [],
   "source": []
  }
 ],
 "metadata": {
  "kernelspec": {
   "display_name": "Python 3.8.10 64-bit",
   "language": "python",
   "name": "python3"
  },
  "language_info": {
   "codemirror_mode": {
    "name": "ipython",
    "version": 3
   },
   "file_extension": ".py",
   "mimetype": "text/x-python",
   "name": "python",
   "nbconvert_exporter": "python",
   "pygments_lexer": "ipython3",
   "version": "3.8.10"
  },
  "orig_nbformat": 4,
  "vscode": {
   "interpreter": {
    "hash": "916dbcbb3f70747c44a77c7bcd40155683ae19c65e1c03b4aa3499c5328201f1"
   }
  }
 },
 "nbformat": 4,
 "nbformat_minor": 2
}
